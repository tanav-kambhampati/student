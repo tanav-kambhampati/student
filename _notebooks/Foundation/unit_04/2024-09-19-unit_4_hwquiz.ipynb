{
 "cells": [
  {
   "cell_type": "markdown",
   "metadata": {},
   "source": [
    "---\n",
    "layout: post\n",
    "type: collab\n",
    "title: Unit 4 - HW Quiz\n",
    "description: Unit 4 Team Teach HW QUIZ\n",
    "comments: true\n",
    "permalink: /csa/unit4-p1/unit4-hwquiz\n",
    "menu: nav/CSA_Units/csa_unit4_p1.html\n",
    "author: hanlun, saaras, arthur, miheer, eshaan, beijan\n",
    "---"
   ]
  },
  {
   "cell_type": "markdown",
   "metadata": {},
   "source": [
    "## Unit 4 - Iteration:\n",
    "- This is the homework quiz for unit 4, iterations\n",
    "- 4 multiple choice questions\n",
    "- 2 programming hacks\n",
    "- 1 bonus programming hack (required to get above 0.9)"
   ]
  },
  {
   "cell_type": "markdown",
   "metadata": {},
   "source": [
    "### Question 1:\n",
    "What does the following code print?   \n",
    "\n",
    "A. 5 6 7 8 9   \n",
    "\n",
    "B. 4 5 6 7 8 9 10 11 12   \n",
    "\n",
    "C. 3 5 7 9 11   \n",
    "\n",
    "D. 3 4 5 6 7 8 9 10 11 12   \n",
    "\n",
    "<details>\n",
    "<summary>Click to reveal answer:</summary> \n",
    "  D\n",
    "</details>\n",
    "\n",
    "Explain your answer. (explanation is graded not answer)"
   ]
  },
  {
   "cell_type": "code",
   "execution_count": null,
   "metadata": {
    "vscode": {
     "languageId": "java"
    }
   },
   "outputs": [],
   "source": [
    "for (int i = 3; i <= 12; i++) {\n",
    "   System.out.print(i + \" \");\n",
    "}"
   ]
  },
  {
   "cell_type": "markdown",
   "metadata": {},
   "source": [
    "The answer is gonna be D, the loop will iterate 10 times because when you do 12-3 that is 9, but you have the <= sign, so you have to include the last digit which is an extra +1. 9 + 1 = 10, so it will iterate 10 times"
   ]
  },
  {
   "cell_type": "markdown",
   "metadata": {},
   "source": [
    "### Bonus:\n",
    "- Explain the difference between using a variable like i inside a for loop, vs. using a variable that exists in the code itself for a while loop\n",
    "\n",
    "  The difference is that for for loops, you initialize the i inside the loop itself, but for while loops you need to initialize the variable i outside the loop. "
   ]
  },
  {
   "cell_type": "markdown",
   "metadata": {},
   "source": [
    "### Question 2:\n",
    "How many times does the following method print a \"*\" ?\n",
    "\n",
    "A. 9\n",
    "\n",
    "B. 7\n",
    "\n",
    "C. 8\n",
    "\n",
    "D. 6\n",
    "\n",
    "<details>\n",
    "<summary>Click to reveal answer:</summary> \n",
    "  C\n",
    "</details>\n",
    "\n",
    "Explain your answer. (explanation is graded not answer)"
   ]
  },
  {
   "cell_type": "code",
   "execution_count": null,
   "metadata": {
    "vscode": {
     "languageId": "java"
    }
   },
   "outputs": [],
   "source": [
    "for (int i = 3; i < 11; i++) {\n",
    "   System.out.print(\"*\");\n",
    "}"
   ]
  },
  {
   "cell_type": "markdown",
   "metadata": {},
   "source": [
    "It will print 8 times because 11 - 3 is 8. There is no <= so it is just 8 and not 9. So, the answer is C."
   ]
  },
  {
   "cell_type": "markdown",
   "metadata": {},
   "source": [
    "### Question 3:\n",
    "What does the following code print?\n",
    "\n",
    "A. -4 -3 -2 -1 0\n",
    "\n",
    "B. -5 -4 -3 -2 -1\n",
    "\n",
    "C. 5 4 3 2 1\n",
    "\n",
    "<details>\n",
    "<summary>Click to reveal answer:</summary> \n",
    "  A\n",
    "</details>\n",
    "\n",
    "Explain your answer. (explanation is graded not answer)"
   ]
  },
  {
   "cell_type": "code",
   "execution_count": null,
   "metadata": {
    "vscode": {
     "languageId": "java"
    }
   },
   "outputs": [],
   "source": [
    "int x = -5;\n",
    "while (x < 0)\n",
    "{\n",
    "   x++;\n",
    "   System.out.print(x + \" \");\n",
    "}"
   ]
  },
  {
   "cell_type": "markdown",
   "metadata": {},
   "source": [
    "Answer is B. It can't be a because that has 0 and the loop will terminate if 0 is reached. It will also not be C because that is all positive numbers which are not less than 0 which is what the condition specifies. "
   ]
  },
  {
   "cell_type": "markdown",
   "metadata": {},
   "source": [
    "### Question 4:\n",
    "What does the following code print?\n",
    "\n",
    "A. 20\n",
    "\n",
    "B. 21\n",
    "\n",
    "C. 25\n",
    "\n",
    "D. 30\n",
    "\n",
    "<details>\n",
    "<summary>Click to reveal answer:</summary> \n",
    "  B\n",
    "</details>\n",
    "\n",
    "Explain your answer. (explanation is graded not answer)"
   ]
  },
  {
   "cell_type": "code",
   "execution_count": null,
   "metadata": {
    "vscode": {
     "languageId": "java"
    }
   },
   "outputs": [],
   "source": [
    "int sum = 0;\n",
    "\n",
    "for (int i = 1; i <= 5; i++) {\n",
    "    if (i % 2 == 0) {\n",
    "        sum += i * 2;\n",
    "    } else {\n",
    "        sum += i;\n",
    "    }\n",
    "}\n",
    "\n",
    "System.out.println(sum);"
   ]
  },
  {
   "cell_type": "markdown",
   "metadata": {},
   "source": [
    "i = 1: sum = 0 + 1 = 1\n",
    "\n",
    "i = 2: sum = 2*2 = 4\n",
    "\n",
    "i = 3: sum = 3 = 3\n",
    "\n",
    "i = 4: sum =  4*2 = 8\n",
    "\n",
    "i = 4: sum = 5 = 5\n",
    "\n",
    "1 +4 + 3 + 5 + 8 = 21, so answer is B"
   ]
  },
  {
   "cell_type": "markdown",
   "metadata": {},
   "source": [
    "## Loops HW Hack"
   ]
  },
  {
   "cell_type": "markdown",
   "metadata": {},
   "source": [
    "### Easy Hack\n",
    "- Use a while loop to find the numbers from 1-50 that are divisible by 3 or 5, then store them into a list (make sure to print it out at the end)\n",
    "- Use a for loop to do the same thing detailed above"
   ]
  },
  {
   "cell_type": "code",
   "execution_count": 2,
   "metadata": {
    "vscode": {
     "languageId": "java"
    }
   },
   "outputs": [
    {
     "name": "stdout",
     "output_type": "stream",
     "text": [
      "Numbers divisible by 3 or 5 (using while loop): [3, 5, 6, 9, 10, 12, 15, 18, 20, 21, 24, 25, 27, 30, 33, 35, 36, 39, 40, 42, 45, 48, 50]\n",
      "Numbers divisible by 3 or 5 (using for loop): [3, 5, 6, 9, 10, 12, 15, 18, 20, 21, 24, 25, 27, 30, 33, 35, 36, 39, 40, 42, 45, 48, 50]\n"
     ]
    }
   ],
   "source": [
    "List<Integer> numberswhile = new ArrayList<>();\n",
    "List<Integer> numbersfor = new ArrayList<>();\n",
    "\n",
    "// Using a while loop\n",
    "int i = 1;\n",
    "while (i <= 50) {\n",
    "    if (i % 3 == 0 || i % 5 == 0) {\n",
    "        numberswhile.add(i);\n",
    "    }\n",
    "    i++;\n",
    "}\n",
    "\n",
    "// Using a for loop\n",
    "for (int j = 1; j <= 50; j++) {\n",
    "    if (j % 3 == 0 || j % 5 == 0) {\n",
    "        numbersfor.add(j);\n",
    "    }\n",
    "}\n",
    "\n",
    "System.out.println(\"Numbers divisible by 3 or 5 (using while loop): \" + numberswhile);\n",
    "System.out.println(\"Numbers divisible by 3 or 5 (using for loop): \" + numbersfor);\n"
   ]
  },
  {
   "cell_type": "markdown",
   "metadata": {},
   "source": [
    "### Harder Hack\n",
    "#### Palindromes are numbers that have the same value when reversed (ex: “123321” or “323”). Create a program that uses a while loop that outputs all palindromes in any given list. \n",
    "\n",
    "Sample Input: \n",
    "test_list = [5672, 235, 5537, 6032, 317, 8460, 1672, 8104, 7770, 4442, 913, 2508, 1116, 9969, 9091, 522, 8756, 9527, 7968, 1520, 4444, 515, 2882, 6556, 595]\n",
    "\n",
    "Sample Output:\n",
    "4444, 515, 2882, 6556, 595"
   ]
  },
  {
   "cell_type": "code",
   "execution_count": 6,
   "metadata": {
    "vscode": {
     "languageId": "java"
    }
   },
   "outputs": [
    {
     "name": "stdout",
     "output_type": "stream",
     "text": [
      "Palindromes: [4444, 515, 2882, 6556, 595]\n"
     ]
    }
   ],
   "source": [
    "public class Main {\n",
    "    public static void main(String[] args) {\n",
    "        List<Integer> testList = List.of(5672, 235, 55379969, 9091, 522, 8756, 9527, 7968, 1520, 4444, 515, 2882, 6556, 595);\n",
    "\n",
    "        List<Integer> palindromes = Palindromes(testList);\n",
    "\n",
    "        System.out.println(\"Palindromes: \" + palindromes);\n",
    "    }\n",
    "\n",
    "    public static List<Integer> Palindromes(List<Integer> numbers) {\n",
    "        List<Integer> palindromes = new ArrayList<>();\n",
    "        int index = 0;\n",
    "\n",
    "        while (index < numbers.size()) {\n",
    "            int number = numbers.get(index);\n",
    "            String numberString = String.valueOf(number);\n",
    "            StringBuilder reversedStringBuilder = new StringBuilder(numberString).reverse();\n",
    "            String reversedString = reversedStringBuilder.toString();\n",
    "\n",
    "            if (numberString.equals(reversedString)) {\n",
    "                palindromes.add(number);\n",
    "            }\n",
    "\n",
    "            index++;\n",
    "        }\n",
    "\n",
    "        return palindromes;\n",
    "    }\n",
    "}\n",
    "Main.main(null);"
   ]
  },
  {
   "cell_type": "markdown",
   "metadata": {},
   "source": [
    "## Bonus Hack (for above 0.9)\n",
    "### Use a for loop to output a spiral matrix with size n\n",
    "Example:\n",
    "\n",
    "Sample Input: n = 3\n",
    "\n",
    "Output: [[1, 2, 3], [8, 9, 4], [7, 6, 5]]"
   ]
  },
  {
   "cell_type": "code",
   "execution_count": 8,
   "metadata": {
    "vscode": {
     "languageId": "java"
    }
   },
   "outputs": [
    {
     "name": "stdout",
     "output_type": "stream",
     "text": [
      "Spiral matrix of size 3:\n",
      "[1, 2, 3]\n",
      "[8, 9, 4]\n",
      "[7, 6, 5]\n"
     ]
    }
   ],
   "source": [
    "public class SpiralMatrix {\n",
    "    public static List<List<Integer>> generateSpiralMatrix(int n) {\n",
    "        List<List<Integer>> matrix = new ArrayList<>(n);\n",
    "        for (int i = 0; i < n; i++) {\n",
    "            matrix.add(new ArrayList<>(n));  \n",
    "            for (int j = 0; j < n; j++) {\n",
    "                matrix.get(i).add(0);\n",
    "            }\n",
    "        }\n",
    "\n",
    "        int top = 0, bottom = n - 1, left = 0, right = n - 1, count = 1;\n",
    "\n",
    "        while (top <= bottom && left <= right) {\n",
    "            for (int i = left; i <= right; i++) {\n",
    "                matrix.get(top).set(i, count++);\n",
    "            }\n",
    "            top++;\n",
    "            for (int i = top; i <= bottom; i++) {\n",
    "                matrix.get(i).set(right, count++);\n",
    "            }\n",
    "            right--;\n",
    "            if (top <= bottom) {\n",
    "                for (int i = right; i >= left; i--) {\n",
    "                    matrix.get(bottom).set(i, count++);\n",
    "                }\n",
    "                bottom--;\n",
    "            }\n",
    "            if (left <= right) {\n",
    "                for (int i = bottom; i >= top; i--) {\n",
    "                    matrix.get(i).set(left, count++);\n",
    "                }\n",
    "                left++;\n",
    "            }\n",
    "        }\n",
    "        return matrix;\n",
    "    }\n",
    "    public static void main(String[] args) {\n",
    "        int n = 3;\n",
    "        List<List<Integer>> spiralMatrix = generateSpiralMatrix(n);\n",
    "\n",
    "        System.out.println(\"Spiral with size \" + n + \":\");\n",
    "        for (List<Integer> row : spiralMatrix) {\n",
    "            System.out.println(row);\n",
    "        }\n",
    "    }\n",
    "}\n",
    "SpiralMatrix.main(null);"
   ]
  },
  {
   "cell_type": "code",
   "execution_count": null,
   "metadata": {},
   "outputs": [],
   "source": []
  }
 ],
 "metadata": {
  "kernelspec": {
   "display_name": "Java",
   "language": "java",
   "name": "java"
  },
  "language_info": {
   "codemirror_mode": "java",
   "file_extension": ".jshell",
   "mimetype": "text/x-java-source",
   "name": "Java",
   "pygments_lexer": "java",
   "version": "17.0.12+7-Ubuntu-1ubuntu224.04"
  }
 },
 "nbformat": 4,
 "nbformat_minor": 4
}
