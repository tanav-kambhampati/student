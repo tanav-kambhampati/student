{
 "cells": [
  {
   "cell_type": "markdown",
   "metadata": {},
   "source": [
    "---\n",
    "layout: post\n",
    "title: Reflection \n",
    "description: Here's a reflection of everything that I've learned from the team teaches\n",
    "type: issues \n",
    "comments: true\n",
    "---"
   ]
  },
  {
   "cell_type": "markdown",
   "metadata": {},
   "source": [
    "# Unit 1: Primitive Types\n",
    "- The data types we learned about are int, double, boolean, char, String\n",
    "    - String is capitalized because it's a referenec data type not a primitive data type. \n",
    "- To declare a variable the syntax is int x = 5; or String name = \"tanav\";\n",
    "- Arithmetic operators include  +, -, *, /, %, \n",
    "- Casting: int to double, double to int (truncation)\n",
    "- To get input we need to import scanners and then create a scanner object. Scanner.nextLine() for string, nextInt for int...\n",
    "- Print statements are System.out.print(); or System.out.println(); (new line) "
   ]
  },
  {
   "cell_type": "markdown",
   "metadata": {},
   "source": [
    "# Unit 2: Using Objects\n",
    "- To create an object the syntax is Class objectname = new Class();\n",
    "- Some methods for Strings include length() substring() indexOf() charAt()\n",
    "- You can use stringbuilder to make custon strings. \n",
    "- Math Class: Math.pow(), Math.sqrt(), Math.random(). Math.pow is the exponent function the parameters are (base,pow)"
   ]
  },
  {
   "cell_type": "markdown",
   "metadata": {},
   "source": [
    "# Unit 3: Boolean Expressions and if Statements\n",
    "- Boolean Operators include &&, !, ||\n",
    "- Comparison Operators include (pretty much the symbols in math) <, >, <=, >=, ==, !=\n",
    "- The conditional statements we learned are if, if else, and else. \n",
    "- You can nest loops by putting one loop inside of another (drawing out a rectangel...)"
   ]
  },
  {
   "cell_type": "markdown",
   "metadata": {},
   "source": [
    "# Unit 4: Iteration\n",
    "The loops we learned are:\n",
    "\n",
    "- while(condition){} <- While loop\n",
    "- for (initialization, boolean condition, update){} <- For loop\n",
    "- do{} while(condition); <- Do while loop\n",
    "\n",
    "You can nest loops\n",
    "You can use loops to traverse through arrays, to count different things, or you can do binary/linear search. \n",
    "\n",
    "break; <- function used to end the loop"
   ]
  },
  {
   "cell_type": "markdown",
   "metadata": {},
   "source": [
    "# Unit 5: Writing Classes\n",
    "- A class has fields, methods, constructor(s) that make it up\n",
    "- A constructor initializzes the instance variables of the class. \n",
    "- Accessors are getter methods and they are used to return stuff. \n",
    "- Mutators are setters and unlike accessors they are to update an object\n",
    "- Static variables are like constants and they are shared among all objects\n",
    "- Syntax for making a new object: Class objectname = new Class();\n"
   ]
  },
  {
   "cell_type": "markdown",
   "metadata": {},
   "source": [
    "# Unit 6: Array\n",
    "- Declaration of an array: type[] arrayName = new type[size];\n",
    "- To access elements you just do array[index]\n",
    "- You can use for each, for, and while loops to travers through arrays. \n",
    "- Careful not to get IndexOutofBoundsExceptionError and ConcurrentModificationsExceptionError!"
   ]
  },
  {
   "cell_type": "markdown",
   "metadata": {},
   "source": [
    "# Unit 7: ArrayLists\n",
    "- Pretty similar to arrays, but the difference is that ArrayLists are dynamic\n",
    "- Declaration: Arraylist name = new Arraylist<>();\n",
    "- To add elements you use the .add method\n",
    "- Common methods include add(), void add(), remove(), set(), get().\n",
    "- Iterate through them using for each, for, or while loops. "
   ]
  },
  {
   "cell_type": "markdown",
   "metadata": {},
   "source": [
    "# Unit 8: 2D Arrays\n",
    "- Declaration: type[][] arrayName = new type[rows][cols];\n",
    "- You can access elemens using array[row index][column index]\n",
    "- To traverse, you need to use nested loops. One for rows, and then one for columns.\n",
    "    - Traditional way is \n",
    "Applications: Grids, matrices\n",
    "Common Algorithms: Row-wise, column-wise processing"
   ]
  }
 ],
 "metadata": {
  "language_info": {
   "name": "python"
  }
 },
 "nbformat": 4,
 "nbformat_minor": 2
}
