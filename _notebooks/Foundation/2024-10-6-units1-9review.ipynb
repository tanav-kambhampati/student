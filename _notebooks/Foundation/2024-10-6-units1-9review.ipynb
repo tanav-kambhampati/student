{
 "cells": [
  {
   "cell_type": "markdown",
   "metadata": {},
   "source": [
    "---\n",
    "layout: post\n",
    "title: Reflection \n",
    "description: Here's a reflection of everything that I've learned from the team teaches\n",
    "type: issues \n",
    "comments: true\n",
    "---"
   ]
  },
  {
   "cell_type": "markdown",
   "metadata": {},
   "source": [
    "# Unit 1: Primitive Types\n",
    "- Data Types: int, double, boolean, char\n",
    "- Variable Declaration: int x = 5;\n",
    "- Arithmetic: +, -, *, /, %, precedence rules (PEMDAS)\n",
    "- Casting: int to double, double to int (truncation)\n",
    "- Input: Scanner sc = new Scanner(System.in);\n",
    "- Output: System.out.println();\n"
   ]
  }
 ],
 "metadata": {
  "language_info": {
   "name": "python"
  }
 },
 "nbformat": 4,
 "nbformat_minor": 2
}
