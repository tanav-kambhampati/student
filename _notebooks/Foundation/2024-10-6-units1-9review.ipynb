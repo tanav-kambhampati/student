{
 "cells": [
  {
   "cell_type": "markdown",
   "metadata": {},
   "source": [
    "---\n",
    "layout: post\n",
    "title: Reflection \n",
    "description: Here's a reflection of everything that I've learned from the team teaches\n",
    "type: issues \n",
    "comments: true\n",
    "---"
   ]
  },
  {
   "cell_type": "markdown",
   "metadata": {},
   "source": [
    "# Overall Summary: \n",
    "These team teaches were extremely useful because they contain the fundamentals of Java. These are literally the most important parts of Java because without them, you can't really understand anything else. Although the loops and conditionals are very simple, I'm glad we dived into OOP and classes, it seems very fun. I still have a few doubts on constructors and mutators, but I will work to resolve them soon. \n",
    "\n"
   ]
  },
  {
   "cell_type": "markdown",
   "metadata": {},
   "source": [
    "# Unit 1: Primitive Types\n",
    "- The data types we learned about are int, double, boolean, char, \n",
    "    - String is not a primitive data type. \n",
    "- To declare a variable the syntax is int x = 5; or double age = \"53.21\";\n",
    "- Arithmetic operators include  +, -, *, /, %, \n",
    "- Casting: int to double, double to int (truncation)\n",
    "- To get input we need to import scanners and then create a scanner object. Scanner.nextLine() for string, nextInt for int...\n",
    "- Print statements are System.out.print(); or System.out.println(); (new line) \n",
    "\n",
    "Real Life Application: You can create variables to store values in a program"
   ]
  },
  {
   "cell_type": "markdown",
   "metadata": {},
   "source": [
    "# Unit 2: Using Objects\n",
    "- To create an object the syntax is Class objectname = new Class();\n",
    "- Some methods for Strings include length() substring() indexOf() charAt()\n",
    "- You can use stringbuilder to make custon strings. \n",
    "- Math Class: Math.pow(), Math.sqrt(), Math.random(). Math.pow is the exponent function the parameters are (base,pow)\n",
    "\n",
    "Real Life Application: You can create an object of something. Lets say you have a database of users, you could have an object of them"
   ]
  },
  {
   "cell_type": "markdown",
   "metadata": {},
   "source": [
    "# Unit 3: Boolean Expressions and if Statements\n",
    "- Boolean Operators include &&, !, ||\n",
    "- Comparison Operators include (pretty much the symbols in math) <, >, <=, >=, ==, !=\n",
    "- The conditional statements we learned are if, if else, and else. \n",
    "- You can nest loops by putting one loop inside of another (drawing out a rectangel...)\n",
    "\n",
    "Real Life Application: You can "
   ]
  },
  {
   "cell_type": "markdown",
   "metadata": {},
   "source": [
    "# Unit 4: Iteration\n",
    "The loops we learned are:\n",
    "\n",
    "- while(condition){} <- While loop\n",
    "- for (initialization, boolean condition, update){} <- For loop\n",
    "- do{} while(condition); <- Do while loop\n",
    "\n",
    "You can nest loops\n",
    "You can use loops to traverse through arrays, to count different things, or you can do binary/linear search. \n",
    "\n",
    "break; <- function used to end the loop"
   ]
  },
  {
   "cell_type": "markdown",
   "metadata": {},
   "source": [
    "# Unit 5: Writing Classes\n",
    "- A class has fields, methods, constructor(s) that make it up\n",
    "- A constructor initializzes the instance variables of the class. \n",
    "- Accessors are getter methods and they are used to return stuff. \n",
    "- Mutators are setters and unlike accessors they are to update an object\n",
    "- Static variables are like constants and they are shared among all objects\n",
    "- Syntax for making a new object: Class objectname = new Class();\n"
   ]
  },
  {
   "cell_type": "markdown",
   "metadata": {},
   "source": [
    "# Unit 6: Array\n",
    "- Declaration of an array: type[] arrayName = new type[size];\n",
    "- To access elements you just do array[index]\n",
    "- You can use for each, for, and while loops to travers through arrays. \n",
    "- Careful not to get IndexOutofBoundsExceptionError and ConcurrentModificationsExceptionError!"
   ]
  },
  {
   "cell_type": "markdown",
   "metadata": {},
   "source": [
    "# Unit 7: ArrayLists\n",
    "- Pretty similar to arrays, but the difference is that ArrayLists are dynamic\n",
    "- Declaration: Arraylist name = new Arraylist<>();\n",
    "- To add elements you use the .add method\n",
    "- Common methods include add(), void add(), remove(), set(), get().\n",
    "- Iterate through them using for each, for, or while loops. "
   ]
  },
  {
   "cell_type": "markdown",
   "metadata": {},
   "source": [
    "# Unit 8: 2D Arrays\n",
    "- Declaration: type[][] arrayName = new type[rows][cols];\n",
    "- You can access elemens using array[row index][column index]\n",
    "- To traverse, you need to use nested loops. One for rows, and then one for columns.\n",
    "    - Traditional way is row major order\n",
    "- A cool usage is to rotate a matrix by 90 degrees. "
   ]
  },
  {
   "cell_type": "code",
   "execution_count": 7,
   "metadata": {
    "vscode": {
     "languageId": "java"
    }
   },
   "outputs": [
    {
     "name": "stdout",
     "output_type": "stream",
     "text": [
      "Hello, my name is Tanav and I am 18 years old.\n",
      "Hello, my name is Sri and I am 17 years old.\n",
      "Hello, my name is Aidan and I am 16 years old.\n",
      "Hello, my name is Saathvik and I am 15 years old.\n",
      "Hello, my name is Anika and I am 14 years old.\n",
      "Hello, my name is Frank and I am 13 years old.\n",
      "Tanav's average grade is: 91.5\n",
      "Sri's average grade is: 91.0\n",
      "Aidan's average grade is: NaN\n",
      "Saathvik's average grade is: NaN\n",
      "Anika's average grade is: NaN\n",
      "Frank's average grade is: NaN\n"
     ]
    }
   ],
   "source": [
    "import java.util.ArrayList;\n",
    "import java.util.Scanner;\n",
    "\n",
    "class Person {\n",
    "    String name;\n",
    "    int age;\n",
    "\n",
    "    public Person(String name, int age) {\n",
    "        this.name = name;\n",
    "        this.age = age;\n",
    "    }\n",
    "\n",
    "    public void introduce() {\n",
    "        System.out.println(\"Hello, my name is \" + name + \" and I am \" + age + \" years old.\");\n",
    "    }\n",
    "}\n",
    "\n",
    "class Student extends Person {\n",
    "    ArrayList<Double> grades;\n",
    "\n",
    "    public Student(String name, int age) {\n",
    "        super(name, age);\n",
    "        grades = new ArrayList<>();\n",
    "    }\n",
    "\n",
    "    public void addGrade(double grade) {\n",
    "        grades.add(grade);\n",
    "    }\n",
    "\n",
    "    public double calculateAverage() {\n",
    "        double sum = 0;\n",
    "        for (double grade : grades) {\n",
    "            sum += grade;\n",
    "        }\n",
    "        return sum / grades.size();\n",
    "    }\n",
    "}\n",
    "\n",
    "class Teacher extends Person {\n",
    "    String subject;\n",
    "    ArrayList<Student> students;\n",
    "\n",
    "    public Teacher(String name, int age, String subject) {\n",
    "        super(name, age);\n",
    "        this.subject = subject;\n",
    "        students = new ArrayList<>();\n",
    "    }\n",
    "\n",
    "    public void addStudent(Student student) {\n",
    "        students.add(student);\n",
    "    }\n",
    "\n",
    "    public void printStudents() {\n",
    "        for (Student student : students) {\n",
    "            student.introduce();\n",
    "        }\n",
    "    }\n",
    "}\n",
    "\n",
    "public class School {\n",
    "    public static void main(String[] args) {\n",
    "        Scanner scanner = new Scanner(System.in);\n",
    "\n",
    "        // Create a 2D array to store students\n",
    "        Person[][] students = new Person[3][2];\n",
    "\n",
    "        // Populate the array with students\n",
    "        students[0][0] = new Student(\"Tanav\", 18);\n",
    "        students[0][1] = new Student(\"Sri\", 17);\n",
    "        students[1][0] = new Student(\"Aidan\", 16);\n",
    "        students[1][1] = new Student(\"Saathvik\", 15);\n",
    "        students[2][0] = new Student(\"Anika\", 14);\n",
    "        students[2][1] = new Student(\"Frank\", 13);\n",
    "\n",
    "        // Create a teacher and add students\n",
    "        Teacher teacher = new Teacher(\"Mr. Mort\", 35, \"CSA\");\n",
    "        for (int i = 0; i < students.length; i++) {\n",
    "            for (int j = 0; j < students[i].length; j++) {\n",
    "                teacher.addStudent((Student) students[i][j]);\n",
    "            }\n",
    "        }\n",
    "\n",
    "        // Print all students\n",
    "        teacher.printStudents();\n",
    "\n",
    "        // Add grades for students\n",
    "        ((Student) students[0][0]).addGrade(95);\n",
    "        ((Student) students[0][0]).addGrade(88);\n",
    "        ((Student) students[0][1]).addGrade(90);\n",
    "        ((Student) students[0][1]).addGrade(92);\n",
    "\n",
    "        // Calculate and print average grades\n",
    "        for (int i = 0; i < students.length; i++) {\n",
    "            for (int j = 0; j < students[i].length; j++) {\n",
    "                Student student = (Student) students[i][j];\n",
    "                double average = student.calculateAverage();\n",
    "                System.out.println(student.name + \"'s average grade is: \" + average);\n",
    "            }\n",
    "        }\n",
    "    }\n",
    "}\n",
    "\n",
    "School.main(null);"
   ]
  },
  {
   "cell_type": "code",
   "execution_count": null,
   "metadata": {
    "vscode": {
     "languageId": "java"
    }
   },
   "outputs": [],
   "source": []
  }
 ],
 "metadata": {
  "kernelspec": {
   "display_name": "Java",
   "language": "java",
   "name": "java"
  },
  "language_info": {
   "codemirror_mode": "java",
   "file_extension": ".jshell",
   "mimetype": "text/x-java-source",
   "name": "Java",
   "pygments_lexer": "java",
   "version": "17.0.12+7-Ubuntu-1ubuntu224.04"
  }
 },
 "nbformat": 4,
 "nbformat_minor": 4
}
