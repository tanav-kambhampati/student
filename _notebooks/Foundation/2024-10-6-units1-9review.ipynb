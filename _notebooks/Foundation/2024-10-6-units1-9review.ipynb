{
 "cells": [
  {
   "cell_type": "markdown",
   "metadata": {},
   "source": [
    "---\n",
    "layout: post\n",
    "title: Reflection \n",
    "description: Here's a reflection of everything that I've learned from the team teaches\n",
    "type: issues \n",
    "comments: true\n",
    "---"
   ]
  },
  {
   "cell_type": "markdown",
   "metadata": {},
   "source": [
    "# Unit 1: Primitive Types\n",
    "- The data types we learned about are int, double, boolean, char, String\n",
    "    - String is capitalized because it's a referenec data type not a primitive data type. \n",
    "- To declare a variable the syntax is int x = 5; or String name = \"tanav\";\n",
    "- Arithmetic operators include  +, -, *, /, %, \n",
    "- Casting: int to double, double to int (truncation)\n",
    "- To get input we need to import scanners and then create a scanner object. Scanner.nextLine() for string, nextInt for int...\n",
    "- Print statements are System.out.print(); or System.out.println(); (new line) "
   ]
  },
  {
   "cell_type": "markdown",
   "metadata": {},
   "source": [
    "# Unit 2: Using Objects\n",
    "- To create an object the syntax is Class objectname = new Class();\n",
    "- Some methods for Strings include length() substring() indexOf() charAt()\n",
    "- You can use stringbuilder to make custon strings. \n",
    "- Math Class: Math.pow(), Math.sqrt(), Math.random(). Math.pow is the exponent function the parameters are (base,pow)"
   ]
  },
  {
   "cell_type": "markdown",
   "metadata": {},
   "source": [
    "# Unit 3: Boolean Expressions and if Statements\n",
    "- Boolean Operators include &&, !, ||\n",
    "- Comparison Operators include (pretty much the symbols in math) <, >, <=, >=, ==, !=\n",
    "- The conditional statements we learned are if, if else, and else. \n",
    "- You can nest loops by putting one loop inside of another (drawing out a rectangel...)"
   ]
  },
  {
   "cell_type": "markdown",
   "metadata": {},
   "source": [
    "# Unit 4: Iteration\n",
    "The loops we learned are:\n",
    "\n",
    "- while(condition){} <- While loop\n",
    "- for (initialization, boolean condition, update){} <- For loop\n",
    "- do{} while(condition); <- Do while loop\n",
    "\n",
    "You can nest loops\n",
    "You can use loops to traverse through arrays, to count different things, or you can do binary/linear search. \n",
    "\n",
    "break; <- function used to end the loop"
   ]
  },
  {
   "cell_type": "markdown",
   "metadata": {},
   "source": []
  }
 ],
 "metadata": {
  "language_info": {
   "name": "python"
  }
 },
 "nbformat": 4,
 "nbformat_minor": 2
}
