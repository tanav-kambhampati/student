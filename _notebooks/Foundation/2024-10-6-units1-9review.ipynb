{
 "cells": [
  {
   "cell_type": "markdown",
   "metadata": {},
   "source": [
    "---\n",
    "layout: post\n",
    "title: Reflection \n",
    "description: Here's a reflection of everything that I've learned from the team teaches\n",
    "type: issues \n",
    "comments: true\n",
    "---"
   ]
  },
  {
   "cell_type": "markdown",
   "metadata": {},
   "source": [
    "# Unit 1: Primitive Types\n",
    "- The data types we learned about are int, double, boolean, char, String\n",
    "    - String is capitalized because it's a referenec data type not a primitive data type. \n",
    "- To declare a variable the syntax is int x = 5; or String name = \"tanav\";\n",
    "- Arithmetic operators include  +, -, *, /, %, \n",
    "- Casting: int to double, double to int (truncation)\n",
    "- To get input we need to import scanners and then create a scanner object. Scanner.nextLine() for string, nextInt for int...\n",
    "- Print statements are System.out.print(); or System.out.println(); (new line) \n"
   ]
  }
 ],
 "metadata": {
  "language_info": {
   "name": "python"
  }
 },
 "nbformat": 4,
 "nbformat_minor": 2
}
