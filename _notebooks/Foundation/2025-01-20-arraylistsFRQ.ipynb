{
 "cells": [
  {
   "cell_type": "markdown",
   "metadata": {},
   "source": [
    "---\n",
    "layout: post\n",
    "title:  Arraylists FRQ\n",
    "description: Thanks for the lesson!\n",
    "type: issues \n",
    "comments: true\n",
    "---"
   ]
  },
  {
   "cell_type": "code",
   "execution_count": null,
   "metadata": {
    "vscode": {
     "languageId": "java"
    }
   },
   "outputs": [],
   "source": [
    "//this is the completed method cleanData\n",
    "\n",
    "public void cleanData(double lower, double upper) {\n",
    "    ArrayList<Double> validTemperatures = new ArrayList<>();\n",
    "        for (double temp : temperatures) {\n",
    "        if (temp >= lower && temp <= upper) {\n",
    "            validTemperatures.add(temp);\n",
    "        }\n",
    "    }\n",
    "    temperatures = validTemperatures;\n",
    "}\n",
    "//does it count as exraneous code to have the ArrayList validTemperatures??"
   ]
  },
  {
   "cell_type": "code",
   "execution_count": null,
   "metadata": {
    "vscode": {
     "languageId": "java"
    }
   },
   "outputs": [],
   "source": [
    "//part 2\n",
    "public int longestHeatWave(double threshold) {\n",
    "    int maxLength = 0; //this is for the longest ever heatwave\n",
    "    int currentLength = 0; \n",
    "    for (double temp : temperatures) {\n",
    "        if (temp > threshold) {\n",
    "            currentLength++; \n",
    "            maxLength = Math.max(maxLength, currentLength); \n",
    "        } else {\n",
    "            currentLength = 0; \n",
    "        }\n",
    "    }\n",
    "\n",
    "    return maxLength; \n",
    "}"
   ]
  }
 ],
 "metadata": {
  "language_info": {
   "name": "python"
  }
 },
 "nbformat": 4,
 "nbformat_minor": 2
}
