{
 "cells": [
  {
   "cell_type": "markdown",
   "metadata": {},
   "source": [
    "---\n",
    "layout: post\n",
    "type: collab\n",
    "title: Unit 6.3 - Arrays\n",
    "description: Unit 6 Team Teach - Arrays\n",
    "comments: true\n",
    "permalink: /csa/unit6-p1/unit6-3\n",
    "menu: nav/CSA_Units/csa_unit6_p1.html\n",
    "---"
   ]
  },
  {
   "cell_type": "markdown",
   "metadata": {},
   "source": [
    "6.1"
   ]
  },
  {
   "cell_type": "code",
   "execution_count": 1,
   "metadata": {
    "vscode": {
     "languageId": "java"
    }
   },
   "outputs": [
    {
     "name": "stdout",
     "output_type": "stream",
     "text": [
      "[Ferrari, Toyota, Tesla, Tata, MG]\n"
     ]
    }
   ],
   "source": [
    "import java.util.Arrays;\n",
    "String[]cars = {\"Ferrari\", \"Toyota\",\"Tesla\",\"Tata\",\"MG\"};\n",
    "System.out.println(Arrays.toString(cars));\n"
   ]
  },
  {
   "cell_type": "code",
   "execution_count": 3,
   "metadata": {
    "vscode": {
     "languageId": "java"
    }
   },
   "outputs": [
    {
     "name": "stdout",
     "output_type": "stream",
     "text": [
      "original grades are: \n",
      "F B A C \n",
      "Updated Grades: \n",
      "A A A A \n"
     ]
    }
   ],
   "source": [
    "private static void printgrades(char[] grades) {\n",
    "   for (char grade : grades) {\n",
    "       System.out.print(grade + \" \");\n",
    "   }\n",
    "   System.out.println();\n",
    "}\n",
    "\n",
    "\n",
    "char[] grades = {'F', 'B', 'A', 'C'};\n",
    "System.out.println(\"original grades are: \");\n",
    "printgrades(grades);\n",
    "\n",
    "\n",
    "grades[0] = 'A'; \n",
    "grades[1] = 'A'; \n",
    "grades[2] = 'A';\n",
    "grades[3] = 'A';\n",
    "System.out.println(\"Updated Grades: \");\n",
    "printgrades(grades);\n"
   ]
  },
  {
   "cell_type": "markdown",
   "metadata": {},
   "source": [
    "6.2"
   ]
  },
  {
   "cell_type": "code",
   "execution_count": 4,
   "metadata": {
    "vscode": {
     "languageId": "java"
    }
   },
   "outputs": [
    {
     "name": "stdout",
     "output_type": "stream",
     "text": [
      "Even Index\n",
      "1\n",
      "3\n",
      "5\n"
     ]
    }
   ],
   "source": [
    "int[] list = {0, 1, 2, 3, 4, 5};\n",
    "System.out.println(\"Odd Index\");\n",
    "for(int index = 1; index < list.length; index+=2){\n",
    "   System.out.println(list[index]);\n",
    "}\n"
   ]
  },
  {
   "cell_type": "code",
   "execution_count": 5,
   "metadata": {
    "vscode": {
     "languageId": "java"
    }
   },
   "outputs": [
    {
     "name": "stdout",
     "output_type": "stream",
     "text": [
      "new index 5\n",
      "array contents: 0 1 2 3 4 "
     ]
    }
   ],
   "source": [
    "int[] list = new int[5];\n",
    "int index = 0;\n",
    "\n",
    "\n",
    "while (index < list.length) {\n",
    "   list[index] = index;\n",
    "   index++;\n",
    "}\n",
    "\n",
    "\n",
    "System.out.println(\"new index \" + index);\n",
    "System.out.print(\"array contents: \"); \n",
    "for (int i = 0; i < list.length; i++) {\n",
    "   System.out.print(list[i] + \" \");\n",
    "}\n"
   ]
  },
  {
   "cell_type": "code",
   "execution_count": 7,
   "metadata": {
    "vscode": {
     "languageId": "java"
    }
   },
   "outputs": [
    {
     "name": "stdout",
     "output_type": "stream",
     "text": [
      "The average of the grades is: 67.83333333333333\n",
      "generous grade update: 95 55 75 25 85 102 "
     ]
    }
   ],
   "source": [
    "public class GradeAverage {\n",
    "   public static void main(String[] args) {\n",
    "       /* grades out of 100 */\n",
    "       int[] grades = {60, 50, 70, 38, 80, 97};\n",
    "       int sum = 0;\n",
    "       double average;\n",
    "      \n",
    "       for (int i = 0; i<grades.length;i++) {\n",
    "           sum += grades[i];\n",
    "       }\n",
    "     \n",
    "       average = (double) sum / grades.length;\n",
    "       System.out.println(\"The average of  grades is: \" + average);\n",
    "\n",
    "\n",
    "       if (average < 60) {\n",
    "           System.out.println(\"Man, you need to study more\");\n",
    "       }\n",
    "\n",
    "\n",
    "       for (int i = 0; i < grades.length; i++) {\n",
    "           grades[i] += 5;\n",
    "       }\n",
    "\n",
    "\n",
    "       System.out.print(\"generous grade update: \");\n",
    "       for (int grade : grades) {\n",
    "           System.out.print(grade + \" \");\n",
    "       }\n",
    "   }\n",
    "}\n",
    "\n",
    "GradeAverage.main(null);"
   ]
  },
  {
   "cell_type": "markdown",
   "metadata": {},
   "source": [
    "6.3"
   ]
  },
  {
   "cell_type": "code",
   "execution_count": 9,
   "metadata": {
    "vscode": {
     "languageId": "java"
    }
   },
   "outputs": [
    {
     "name": "stdout",
     "output_type": "stream",
     "text": [
      "Tarun\n",
      "1\n",
      "SirTarunMobile\n",
      "500\n",
      "Toyota\n",
      "1000\n"
     ]
    }
   ],
   "source": [
    "import java.util.HashMap;\n",
    "import java.util.Map;\n",
    "\n",
    "\n",
    "Map<String, Integer> carMap = new HashMap<>();\n",
    "\n",
    "\n",
    "carMap.put(\"Toyota\",1000);\n",
    "carMap.put(\"SirTarunMobile\",500);\n",
    "carMap.put(\"Tarun\", 1);\n",
    "\n",
    "\n",
    "for (Map.Entry<String, Integer> entry : carMap.entrySet()) {\n",
    "   System.out.println(entry.getKey());\n",
    "   System.out.println(entry.getValue());\n",
    "}\n",
    "\n",
    "\n",
    "//Ian are you my friend????????\n"
   ]
  },
  {
   "cell_type": "code",
   "execution_count": 10,
   "metadata": {
    "vscode": {
     "languageId": "java"
    }
   },
   "outputs": [
    {
     "name": "stdout",
     "output_type": "stream",
     "text": [
      "false\n",
      "true\n",
      "false\n",
      "true\n",
      "false\n",
      "true\n",
      "true\n",
      "false\n",
      "true\n",
      "false\n",
      "true\n",
      "false\n",
      "true\n",
      "true\n"
     ]
    }
   ],
   "source": [
    "int[] numbers = {1, 2, 3, 4, 5, 6, 2000};\n",
    "\n",
    "\n",
    "for (int i = 0; i < numbers.length; i++) {\n",
    "   System.out.println(numbers[i]%2 == 0);\n",
    "}\n",
    "\n",
    "\n",
    "for (int number : numbers) {\n",
    "   System.out.println(number%2 == 0); //true if even\n",
    "}"
   ]
  },
  {
   "cell_type": "markdown",
   "metadata": {},
   "source": [
    "6.4"
   ]
  },
  {
   "cell_type": "code",
   "execution_count": 14,
   "metadata": {
    "vscode": {
     "languageId": "java"
    }
   },
   "outputs": [
    {
     "name": "stdout",
     "output_type": "stream",
     "text": [
      "2.0\n"
     ]
    }
   ],
   "source": [
    "private double findMinEven(int[] values) {\n",
    "   if (values.length == 0) {\n",
    "       return Double.POSITIVE_INFINITY;\n",
    "   }\n",
    "\n",
    "\n",
    "   int min = Integer.MAX_VALUE;\n",
    "\n",
    "\n",
    "   for (int i = 0; i < values.length; i += 2) {\n",
    "       if (values[i]<min) {\n",
    "           min = values[i];\n",
    "       }\n",
    "   }\n",
    "\n",
    "\n",
    "   return min;\n",
    "}\n",
    "\n",
    "\n",
    "int[] nums = {69, 420, 88, 452, 2, 109212821};\n",
    "System.out.println(findMinEven(nums));\n"
   ]
  },
  {
   "cell_type": "code",
   "execution_count": 15,
   "metadata": {
    "vscode": {
     "languageId": "java"
    }
   },
   "outputs": [
    {
     "name": "stdout",
     "output_type": "stream",
     "text": [
      "2 3 1 4 6 7 5 8 10 11 9 12 14 15 13 16 18 19 17 20 "
     ]
    }
   ],
   "source": [
    "private int[] shiftRight(int[] values, int shift, int space) {\n",
    "   int[] result = values.clone();\n",
    "  \n",
    "   for (int i = 0; i < values.length; i += space) {\n",
    "       for (int j = 0; j < shift && (i + j) < values.length - 1; j++) {\n",
    "           int temp = result[i + j];\n",
    "           result[i + j] = result[i + j + 1];\n",
    "           result[i + j + 1] = temp;\n",
    "       }\n",
    "   }\n",
    "\n",
    "\n",
    "   return result;\n",
    "}\n",
    "\n",
    "\n",
    "int[] numbers = {1, 2, 3, 4, 5, 6, 7, 8, 9, 10, 11, 12, 13, 14, 15, 16, 17, 18, 19, 20};\n",
    "int shift = 2;\n",
    "int space = 4;\n",
    "\n",
    "\n",
    "for (int value : shiftRight(numbers, shift, space)) {\n",
    "   System.out.print(value + \" \");\n",
    "}\n",
    "\n",
    "\n"
   ]
  }
 ],
 "metadata": {
  "kernelspec": {
   "display_name": "Java",
   "language": "java",
   "name": "java"
  },
  "language_info": {
   "codemirror_mode": "java",
   "file_extension": ".jshell",
   "mimetype": "text/x-java-source",
   "name": "Java",
   "pygments_lexer": "java",
   "version": "17.0.12+7-Ubuntu-1ubuntu224.04"
  }
 },
 "nbformat": 4,
 "nbformat_minor": 4
}
