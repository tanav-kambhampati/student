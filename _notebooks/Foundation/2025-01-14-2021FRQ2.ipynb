{
 "cells": [
  {
   "cell_type": "markdown",
   "metadata": {},
   "source": [
    "---\n",
    "layout: post\n",
    "title:  2021 FRQ#2\n",
    "description: The homework for team teach\n",
    "type: issues \n",
    "comments: true\n",
    "---"
   ]
  },
  {
   "cell_type": "markdown",
   "metadata": {},
   "source": [
    "Understanding the requirements: \n",
    "What we are trying to do here is we are finding the desirability of certain combined chairs based on their number of available seats, and their height. We are using various methods to do so. "
   ]
  },
  {
   "cell_type": "code",
   "execution_count": null,
   "metadata": {
    "vscode": {
     "languageId": "java"
    }
   },
   "outputs": [],
   "source": [
    "public class CombinedTable {//class name and initializing variables \n",
    "    private SingleTable table1;\n",
    "    private SingleTable table2;\n",
    "\n",
    "    public CombinedTable(SingleTable table1, SingleTable table2) {// constructor\n",
    "        this.table1 = table1;\n",
    "        this.table2 = table2;\n",
    "    }\n",
    "\n",
    "    public boolean canSeat(int n) {\n",
    "        int availableSeats = table1.getNumSeats() + table2.getNumSeats() - 2; //calculating the amount of seats available\n",
    "        return n <= availableSeats;\n",
    "    }\n",
    "\n",
    "    public double getDesirability() {\n",
    "        double totalViewQuality = table1.getViewQuality() + table2.getViewQuality();\n",
    "        if (table1.getHeight() != table2.getHeight()) {\n",
    "            return (totalViewQuality / 2) - 10;\n",
    "        }\n",
    "        return totalViewQuality / 2;\n",
    "    }\n",
    "}"
   ]
  },
  {
   "cell_type": "markdown",
   "metadata": {},
   "source": [
    "Scoring:\n",
    "I asked ChatGPT to grade mine, and it gave me an 8 out of 10. I think everything is good, it's just that in the method canSeat, I can combine both of those lines into one. I dont need to make a temp variable called availableSeats. Also instead of using an if else statment at the end, I just did if, but using else instead of nothing is a good coding practice i guess. "
   ]
  },
  {
   "cell_type": "markdown",
   "metadata": {},
   "source": [
    "**Corrected Code**"
   ]
  },
  {
   "cell_type": "code",
   "execution_count": null,
   "metadata": {
    "vscode": {
     "languageId": "java"
    }
   },
   "outputs": [],
   "source": [
    "public class CombinedTable {\n",
    "    private SingleTable table1;\n",
    "    private SingleTable table2;\n",
    "\n",
    "    public CombinedTable(SingleTable t1, SingleTable t2) {\n",
    "        this.table1 = t1;\n",
    "        this.table2 = t2;\n",
    "    }\n",
    "\n",
    "    public boolean canSeat(int n) {\n",
    "        return table1.getNumSeats() + table2.getNumSeats() - 2 >= n;\n",
    "    }\n",
    "\n",
    "    public double getDesirability() {\n",
    "        if (table1.getHeight() == table2.getHeight()) {\n",
    "            return (table1.getViewQuality() + table2.getViewQuality()) / 2;\n",
    "        } else {\n",
    "            return (table1.getViewQuality() + table2.getViewQuality()) / 2 - 10;\n",
    "        }\n",
    "    }\n",
    "}\n"
   ]
  },
  {
   "cell_type": "markdown",
   "metadata": {},
   "source": [
    "This code is fixed, it matches the answer key. The issues I mentioned above are resolved in this code. "
   ]
  }
 ],
 "metadata": {
  "language_info": {
   "name": "python"
  }
 },
 "nbformat": 4,
 "nbformat_minor": 2
}
