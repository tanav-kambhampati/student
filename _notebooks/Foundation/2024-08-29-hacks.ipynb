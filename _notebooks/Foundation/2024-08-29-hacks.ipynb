{
 "cells": [
  {
   "cell_type": "markdown",
   "metadata": {},
   "source": [
    "---\n",
    "layout: post\n",
    "title:  Devops Hacks\n",
    "description:  These are my answers to the devops hacks\n",
    "type: issues \n",
    "comments: true\n",
    "---"
   ]
  },
  {
   "cell_type": "markdown",
   "metadata": {},
   "source": [
    "## Version Control\n",
    "Question 1: How are the files from GitHub placed on your local machine? How do you navigate to those files?\n",
    "\n",
    "Answer 1: Files from GitHub are placed on your local machine using the git clone command. You can navigate to these files using the cd command in your terminal.\n",
    "\n",
    "Question 2: How are the files updated in GitHub? How do you navigate to those files?\n",
    "\n",
    "Answer 2: Files are updated in GitHub by committing and pushing changes using git commit and git push commands. You can navigate to files on GitHub through the web interface or using the terminal.\n",
    "\n",
    "Question 3: How would you update your template of the portfolio_2025 repository? How would you make it more applicable to your specific course?\n",
    "\n",
    "Answer 3: To update the portfolio_2025 template, you would edit the files directly on your local machine. Editing means making changes to the content, structure, or design to align with what I want. Once finished, I will commit and push the changes to GitHub.\n",
    "Simply put, the process is edit, test locally, commit, and push\n",
    "\n",
    "## Localhost vs. Deployed Server\n",
    "Question 1: Put into words the difference between viewing GitHub Pages running on your localhost machine versus running on a deployed server.\n",
    "\n",
    "Answer 1: When you view GitHub Pages on your localhost, you're seeing a preview of how the website will look before it's made public. A deployed server is where the website is hosted and accessible to everyone on the internet.\n",
    "Question 2: What is the localhost URL for your project? Can anyone else see what you see?\n",
    "\n",
    "Answer 2: The localhost URL for my project is https://localhost:4100. Only i can see what you see on your localhost, as it's running on my local computer.\n",
    "\n",
    "Question 3: What is the GitHub Pages URL for your project? Can anyone else see what you see?\n",
    "\n",
    "Answer 3: The GitHub Pages URL for my  project will be something like https://your-username.github.io/your-project-name. Anyone with the URL can access and view your website.\n",
    "\n",
    "## DNS and Github Pages\n",
    "Question 1: Is there a domain on your GitHub Pages?\n",
    "\n",
    "Answer: Yes, there is a domain associated with GitHub Pages. It's typically in the form of my-username.github.io.\n",
    "\n",
    "Question 2: Is the URL for your GitHub Pages different from your neighbors’ URLs? Did you change the URL? If so, when?\n",
    "\n",
    "Answer: Yes, the URL for your GitHub Pages is different from your neighbors' URLs. It's unique to your GitHub username. You generally don't need to change the URL unless you want to create a custom domain for your project. If I want to change the name of my domain, I have to buy the custom domain\n",
    "\n"
   ]
  },
  {
   "cell_type": "code",
   "execution_count": null,
   "metadata": {},
   "outputs": [],
   "source": []
  }
 ],
 "metadata": {
  "kernelspec": {
   "display_name": "Python 3 (ipykernel)",
   "language": "python",
   "name": "python3"
  }
 },
 "nbformat": 4,
 "nbformat_minor": 2
}
