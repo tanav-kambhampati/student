{
 "cells": [
  {
   "cell_type": "markdown",
   "metadata": {},
   "source": [
    "---\n",
    "layout: post\n",
    "title:  Reflection\n",
    "description: My reflection on the college student CSA Panel\n",
    "type: issues \n",
    "comments: true\n",
    "---"
   ]
  },
  {
   "cell_type": "markdown",
   "metadata": {},
   "source": [
    "Mr. Mort, if you're reading this, I just wanted to start off by thanking you for the event. I actually really like events like this because we get to hear from experienced people who have gone through your teaching. Junior year is the perfect time to be future focused and college ready, and these events help with that\n",
    "\n",
    "But on to my reflection,\n",
    "\n",
    "**Takeaways**\n",
    "\n",
    "Collaboration is Key: \n",
    "Building connections with peers and professionals is very valuable for growth in both academic and career settings. Even Mr. Mort really emphasizes this: \n",
    "Initiative Over Following somebody else: \n",
    "It’s important to take ownership your own work and not have others do it for you. You coding something is literally for your own good. \n",
    "The Tools are Useful: \n",
    "Platforms like GitHub and will never go away, the students in cs backgrounds still use these extensively. They also mentioned bitbucket, a github alternative. \n",
    "\n",
    "**How I Will Use This Knowledge**\n",
    "\n",
    "Fostering Collaboration: \n",
    "I want to try and engage more with classmates and do group projects together, rather than each just doing their own feature. I get this is what should happen, but it would be nice to collaborate more. \n",
    "Enhancing Skills: \n",
    "I want to dedicate more time to mastering Java with SQL and using it for personal and group projects.\n",
    "Developing Leadership:\n",
    "I want to take on roles this trimester where I can lead and guide others. Last trimester, I was more of a follower, but now that I've got the hang of the language I would love to try and be a leader. \n",
    "Take on roles in group settings where I can lead and guide others.\n",
    "Staying Open-Minded:\n",
    "I've learned that in CS, you can't really just \"do your own thing\". You have to be open minded to listen to the ideas of others, and your ideas will not always be chosen. \n",
    "\n",
    "I wanted to save this for the end, but one thing that was emphasized more than anything else I felt was to do what you love. The college students kept saying that you should pursue your interests. I'm not sure if this is a cliche statement, but they said it so many times that it felt like they meant it. So, I will try to do more things that I love, or incorporate them into CS. \n",
    "\n",
    "Thanks for reading!\n",
    "![IMG_7158](https://github.com/user-attachments/assets/aa2234ae-ef7c-4c01-8b78-db3e401b14bb)\n",
    "\n"
   ]
  }
 ],
 "metadata": {
  "language_info": {
   "name": "python"
  }
 },
 "nbformat": 4,
 "nbformat_minor": 2
}
