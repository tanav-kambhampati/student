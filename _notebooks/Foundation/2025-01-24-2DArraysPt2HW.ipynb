{
 "cells": [
  {
   "cell_type": "markdown",
   "metadata": {},
   "source": [
    "---\n",
    "layout: post\n",
    "title:  2D Arrays FRQ pt. 2 Homework\n",
    "description: Thanks for the lesson!\n",
    "type: issues \n",
    "comments: true\n",
    "---"
   ]
  },
  {
   "cell_type": "code",
   "execution_count": null,
   "metadata": {
    "vscode": {
     "languageId": "java"
    }
   },
   "outputs": [],
   "source": [
    "public void repopulate() {\n",
    "    for (int row = 0; row < grid.length; row++) { // First of all, we have to go through each row in the 2D Array\n",
    "        for (int col = 0; col < grid[row].length; col++) { // Next, we need to go through each column in the 2D Array\n",
    "            int value = (int)(Math.random() * MAX) + 1; // Generate an initial random number (between 1 & 100)\n",
    "\n",
    "            // Continue generating until it meets the criteria\n",
    "            while (value % 10 != 0 || value % 100 == 0) {\n",
    "                value = (int)(Math.random() * MAX) + 1;\n",
    "            }\n",
    "\n",
    "            grid[row][col] = value;  // Assign the valid value to the grid\n",
    "        }\n",
    "    }\n",
    "}"
   ]
  },
  {
   "cell_type": "markdown",
   "metadata": {},
   "source": [
    "PART 2"
   ]
  },
  {
   "cell_type": "code",
   "execution_count": null,
   "metadata": {
    "vscode": {
     "languageId": "java"
    }
   },
   "outputs": [],
   "source": [
    "public int countIncreasingCols() {\n",
    "    int count = 0;  // Tracks the number of columns with increasing values\n",
    "\n",
    "    // Loop through each column in the grid\n",
    "    for (int col = 0; col < grid[0].length; col++) {\n",
    "        boolean isIncreasing = true;  // Assume the column has increasing values initially\n",
    "\n",
    "        for (int row = 1; row < grid.length; row++) {\n",
    "            if (grid[row][col] < grid[row - 1][col]) {  // If a value is smaller than the one above it\n",
    "                isIncreasing = false;\n",
    "                break; \n",
    "            }\n",
    "        }\n",
    "        if (isIncreasing) {\n",
    "            count++;  // Add to count if column valid\n",
    "        }\n",
    "    }\n",
    "\n",
    "    return count;  // Return the total count of increasing columns\n",
    "}"
   ]
  }
 ],
 "metadata": {
  "language_info": {
   "name": "python"
  }
 },
 "nbformat": 4,
 "nbformat_minor": 2
}
