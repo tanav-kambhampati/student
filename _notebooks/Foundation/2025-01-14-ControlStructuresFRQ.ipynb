{
 "cells": [
  {
   "cell_type": "markdown",
   "metadata": {},
   "source": [
    "---\n",
    "layout: post\n",
    "title:  Control Structures FRQ\n",
    "description: Control Structures FRQ\n",
    "type: issues \n",
    "comments: true\n",
    "---"
   ]
  },
  {
   "cell_type": "markdown",
   "metadata": {},
   "source": [
    "Part A"
   ]
  },
  {
   "cell_type": "code",
   "execution_count": null,
   "metadata": {
    "vscode": {
     "languageId": "java"
    }
   },
   "outputs": [],
   "source": [
    "public int getScore() {\n",
    "    int score = 0;\n",
    "\n",
    "    if (levelOne.goalReached()) {\n",
    "        score += levelOne.getPoints();\n",
    "\n",
    "        if (levelTwo.goalReached()) {\n",
    "            score += levelTwo.getPoints();\n",
    "\n",
    "            if (levelThree.goalReached()) {\n",
    "                score += levelThree.getPoints();\n",
    "            }\n",
    "        }\n",
    "    }\n",
    "\n",
    "    if (isBonus()) {\n",
    "        score *= 3;\n",
    "    }\n",
    "\n",
    "    return score;\n",
    "}"
   ]
  },
  {
   "cell_type": "markdown",
   "metadata": {},
   "source": [
    "Part B"
   ]
  },
  {
   "cell_type": "code",
   "execution_count": null,
   "metadata": {
    "vscode": {
     "languageId": "java"
    }
   },
   "outputs": [],
   "source": [
    "public int playManyTimes(int num) {\n",
    "    int maxScore = 0;\n",
    "\n",
    "    for (int i = 0; i < num; i++) {\n",
    "        play();  \n",
    "        int currentScore = getScore();  \n",
    "\n",
    "        if (currentScore > maxScore) {\n",
    "            maxScore = currentScore;\n",
    "        }\n",
    "    }\n",
    "\n",
    "    return maxScore;\n",
    "}\n"
   ]
  }
 ],
 "metadata": {
  "language_info": {
   "name": "python"
  }
 },
 "nbformat": 4,
 "nbformat_minor": 2
}
