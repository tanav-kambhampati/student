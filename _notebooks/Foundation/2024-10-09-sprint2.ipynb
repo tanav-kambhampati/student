{
 "cells": [
  {
   "cell_type": "markdown",
   "metadata": {},
   "source": [
    "---\n",
    "layout: post\n",
    "title: Sprint 2 \n",
    "description: This blog covers my performance in Sprint 2\n",
    "type: issues \n",
    "comments: true\n",
    "---"
   ]
  },
  {
   "cell_type": "markdown",
   "metadata": {},
   "source": [
    "https://tanav-kambhampati.github.io/tanav_2025/2024/10/06/units1-9review_IPYNB_2_.html   "
   ]
  },
  {
   "cell_type": "markdown",
   "metadata": {},
   "source": [
    "| **Assignment**             | **Points**    | **Grade** | **Evidence** |\n",
    "|----------------------------|---------------|-----------|--------------|\n",
    "| Pull Request (Integration) | 2             |      1.1  |https://github.com/nighthawkcoders/portfolio_2025/pull/428  ![image](https://github.com/user-attachments/assets/9ed115f7-d1c2-420f-a4dd-9ce6aa1a66f3) |\n",
    "| Relevancy Checklist (Peer) | 2             |     1.69      |https://aidanlau10.github.io/sprint2/csa/unit7-p1/unit7-4|\n",
    "| Lesson (Group)             | 1             |  0.91|        https://nighthawkcoders.github.io/portfolio_2025/csa/unit7-p1/unit7-homepage      |\n",
    "| Homework, Popcorn Hacks    | 1 x 8         |      0.94     | https://tanav-kambhampati.github.io/tanav_2025/blogs/|\n",
    "| Individual Contribution    | 1             |    0.9 |      ![image](https://github.com/user-attachments/assets/40d2dcff-b795-4f81-b05b-914a20910288)       |\n",
    "| Personal Notebooks / Blogs | 1             |     0.9  |     https://tanav-kambhampati.github.io/tanav_2025/2024/10/06/units1-9review_IPYNB_2_.html         |\n",
    "| Total                      | 12            |    10.44       |              |\n",
    "\n",
    "\n",
    "\n",
    "\n",
    "\n",
    "| **Skill**                  | **Points**    | **Grade** | **Evidence** |\n",
    "|----------------------------|---------------|-----------|--------------|\n",
    "| Work Habits (Analytics)    |   1           |         0.9  |    ![image](https://github.com/user-attachments/assets/905a615a-e781-4c60-9049-41f2c5410c26)|\n",
    "| Team Planning (Issue)      |   1           |      0.9     |    https://aidanlau10.github.io/aidan_2025/teamteachplanning/          |\n",
    "| Presentation Memories      |   1           |      0.89     | Some people found our memes very funny!     ![image](https://github.com/user-attachments/assets/7cb85a8a-4361-48b1-a26c-4bfe2be07df3)      |\n",
    "| Grading and Feedback       |   1           |       0.92    |   https://docs.google.com/spreadsheets/d/1sGQtZm9GI2Rze5F7Eh_P1CMNO8Fyag4bCtOT0ddARmc/edit?gid=0#gid=0           |\n",
    "| Beyond Perfunctory         |   1           |      0.9     |        https://github.com/AidanLau10/unit7_2025/commits/Tanav's-Branch2.0 This is my commit log      | \n",
    "| Total                      |   5           |      4.51     |Think my skills were accurately represented by this score|\n",
    "\n"
   ]
  },
  {
   "cell_type": "markdown",
   "metadata": {},
   "source": [
    "# Peer Feedback"
   ]
  },
  {
   "cell_type": "markdown",
   "metadata": {},
   "source": [
    "### Table from Tarun\n",
    "![image](https://github.com/user-attachments/assets/1493e776-e944-49ac-8324-edd5ce3c0fe8)\n",
    "\n",
    "\n",
    "### Table from Dinesh\n",
    "![image](https://github.com/user-attachments/assets/d604e641-e05e-4a79-8ed5-3567d17dfdee)\n",
    "\n",
    "\n",
    "Average: 0.76/0.9"
   ]
  }
 ],
 "metadata": {
  "language_info": {
   "name": "python"
  }
 },
 "nbformat": 4,
 "nbformat_minor": 2
}
