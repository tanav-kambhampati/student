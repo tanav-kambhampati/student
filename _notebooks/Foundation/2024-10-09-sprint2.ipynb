{
 "cells": [
  {
   "cell_type": "markdown",
   "metadata": {},
   "source": [
    "---\n",
    "layout: post\n",
    "title: Sprint 2 \n",
    "description: This blog covers my performance in Sprint 2\n",
    "type: issues \n",
    "comments: true\n",
    "---"
   ]
  },
  {
   "cell_type": "markdown",
   "metadata": {},
   "source": [
    "| **Assignment**             | **Points**    | **Grade** | **Evidence** |\n",
    "|----------------------------|---------------|-----------|--------------|\n",
    "| Pull Request (Integration) | 2             |           |              |\n",
    "| Relevancy Checklist (Peer) | 2             |           |              |\n",
    "| Lesson (Group)             | 1             |           |              |\n",
    "| Homework, Popcorn Hacks    | 1 x 8         |           |              |\n",
    "| Individual Contribution    | 1             |           |              |\n",
    "| Personal Notebooks / Blogs | 1             |           |              |\n",
    "| Total                      | 12            |           |              |\n",
    "\n",
    "\n",
    "| **Skill**                  | **Points**    | **Grade** | **Evidence** |\n",
    "|----------------------------|---------------|-----------|--------------|\n",
    "| Work Habits (Analytics)    |   1           |           |              |\n",
    "| Team Planning (Issue)      |   1           |           |              |\n",
    "| Presentation Memories      |   1           |           |              |\n",
    "| Grading and Feedback       |   1           |           |              |\n",
    "| Beyond Perfunctory         |   1           |           |              | \n",
    "| Total                      |   5           |           |              |\n",
    "\n"
   ]
  }
 ],
 "metadata": {
  "language_info": {
   "name": "python"
  }
 },
 "nbformat": 4,
 "nbformat_minor": 2
}
