{
 "cells": [
  {
   "cell_type": "markdown",
   "metadata": {},
   "source": [
    "---\n",
    "layout: post\n",
    "title:  Remember Forever Quiz\n",
    "description:  remember forever quiz\n",
    "type: issues \n",
    "comments: true\n",
    "---"
   ]
  },
  {
   "cell_type": "markdown",
   "metadata": {},
   "source": [
    "Here's my proof of deleting the nighthawk folder \n",
    "![deletenighthawkrepo](https://media.discordapp.net/attachments/1063473331627630643/1278744517918330940/deletenighthawk.png?ex=66d1eb22&is=66d099a2&hm=b0cfdc5cada4025affc0cd172224e51232583f764c7f522b2bea09223d014d5a&=&format=webp&quality=lossless&width=833&height=468)\n",
    "\n",
    "Here's the people we helped \n",
    "\n",
    "![freshmen](https://media.discordapp.net/attachments/1063473331627630643/1278744517524193454/cspkids.png?ex=66d1eb22&is=66d099a2&hm=b448c643c34fe64171b8099a2c821cdddb620b962edf1fdb11a176bac2627a53&=&format=webp&quality=lossless)\n",
    "\n",
    "\n"
   ]
  },
  {
   "cell_type": "code",
   "execution_count": null,
   "metadata": {
    "vscode": {
     "languageId": "java"
    }
   },
   "outputs": [],
   "source": [
    "public class main {\n",
    "    public static void main (String[] args){\n",
    "        System.out.println(\"awfd\")\n",
    "    }\n",
    "}"
   ]
  }
 ],
 "metadata": {
  "language_info": {
   "name": "python"
  }
 },
 "nbformat": 4,
 "nbformat_minor": 2
}
