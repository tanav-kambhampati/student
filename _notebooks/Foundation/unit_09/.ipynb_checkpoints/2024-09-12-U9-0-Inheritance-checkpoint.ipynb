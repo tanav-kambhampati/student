{
 "cells": [
  {
   "cell_type": "raw",
   "metadata": {
    "vscode": {
     "languageId": "raw"
    }
   },
   "source": [
    "---\n",
    "layout: post\n",
    "title:  Unit 9 - Java Inheritance \n",
    "description:  Team Teach for Java Unit 9 Inheritance\n",
    "courses: { csa: {week: 6} }\n",
    "type: ccc \n",
    "categories: [AP CSA]\n",
    "menu: nav/inheritance.html\n",
    "permalink: /inheritance\n",
    "comments: true\n",
    "author: Bella, Trystan, Nikhil, Dylan\n",
    "---"
   ]
  },
  {
   "cell_type": "markdown",
   "metadata": {},
   "source": [
    "# Combined Unit 9 HW"
   ]
  },
  {
   "cell_type": "code",
   "execution_count": 1,
   "metadata": {},
   "outputs": [
    {
     "name": "stdout",
     "output_type": "stream",
     "text": [
      "As you can see my Car also has the inherited varible hasMovement\n",
      "myCar.hasMovement: true\n"
     ]
    }
   ],
   "source": []
  }
 ],
 "metadata": {
  "kernelspec": {
   "display_name": "java (IJava/j!)",
   "language": "java",
   "name": "jbang-ijava"
  },
  "language_info": {
   "codemirror_mode": "java",
   "file_extension": ".jshell",
   "mimetype": "text/x-java-source",
   "name": "java",
   "pygments_lexer": "java",
   "version": "3.12.6"
  }
 },
 "nbformat": 4,
 "nbformat_minor": 2
}
