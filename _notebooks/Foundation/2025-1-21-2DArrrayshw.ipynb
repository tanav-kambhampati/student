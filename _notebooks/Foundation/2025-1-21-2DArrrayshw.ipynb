{
 "cells": [
  {
   "cell_type": "markdown",
   "metadata": {},
   "source": [
    "---\n",
    "layout: post\n",
    "title:  2D Arrays FRQ\n",
    "description: Thanks for the lesson!\n",
    "type: issues \n",
    "comments: true\n",
    "---"
   ]
  },
  {
   "cell_type": "markdown",
   "metadata": {},
   "source": [
    "Part A"
   ]
  },
  {
   "cell_type": "code",
   "execution_count": null,
   "metadata": {
    "vscode": {
     "languageId": "java"
    }
   },
   "outputs": [],
   "source": [
    "public static boolean isNonZeroRow(int[][] array2D, int r) {\n",
    "    for (int i = 0; i < array2D.length; i++) {\n",
    "        for (int c = 0; c < array2D[i].length; c++) {\n",
    "        }\n",
    "    }\n",
    "    for (int c = 0; c < array2D[r].length; c++) {\n",
    "        if (array2D[r][j] == 0) {\n",
    "            return false;\n",
    "        } \n",
    "    }\n",
    "    return true;\n",
    "\n",
    "\n",
    "}"
   ]
  },
  {
   "cell_type": "markdown",
   "metadata": {},
   "source": [
    "Part B"
   ]
  },
  {
   "cell_type": "code",
   "execution_count": null,
   "metadata": {
    "vscode": {
     "languageId": "java"
    }
   },
   "outputs": [],
   "source": [
    "public static int[][] resize(int[][] array2D) {\n",
    "    int rows = array2D.length;\n",
    "    int columns = array2D[0].length;\n",
    "\n",
    "    //numnonzerorows is already given method\n",
    "    int nonZeroRows = numNonZeroRows(array2D);\n",
    "    int[][] nonZeroArray = new int[nonZeroRows][columns];\n",
    "\n",
    "    for (int i = 0; i < rows; i++) {\n",
    "        if (isNonZeroRow(array2D, i)) {\n",
    "            for (int c = 0; c < columns; c++) {\n",
    "                nonZeroArray[i][c] == array2D[i][c];\n",
    "            }\n",
    "        }\n",
    "    }\n",
    "    return nonZeroArray;\n",
    "}"
   ]
  }
 ],
 "metadata": {
  "language_info": {
   "name": "python"
  }
 },
 "nbformat": 4,
 "nbformat_minor": 2
}
