{
 "cells": [
  {
   "cell_type": "markdown",
   "metadata": {},
   "source": [
    "---\n",
    "layout: post\n",
    "title:  CB Quiz Review\n",
    "description: My reflection on the collegeboard quiz we took\n",
    "type: issues \n",
    "comments: true\n",
    "---"
   ]
  },
  {
   "cell_type": "markdown",
   "metadata": {},
   "source": [
    "**Overall Score: 34/40**\n",
    "\n",
    "1st Question Missed: Question 4\n",
    "![image](https://github.com/user-attachments/assets/b0fd136c-f4a3-4ebe-9869-c802f2fff92f)\n",
    "I forgot that int doesn't involve decimals, so when we divide and it results in a fraction, it will truncate the number down, so even though it should be 2.3333, it actualy becomes 2.\n",
    "\n",
    "\n",
    "2nd Question Missed: Question 14\n",
    "![image](https://github.com/user-attachments/assets/8cc46fc7-ac90-40ec-b380-05fc48f90ae5)\n",
    "I chose answer D because I thought I needed to get the Vehicle object first, then call its getMileage() method. But that's wrong. Since getMileage() is a method of the Vehicle interface, I can just call it directly on the Vehicle object v. So, the correct answer is E: v.getMileage().\n",
    "\n",
    "\n",
    "3rd Question Missed: Question 27\n",
    "![image](https://github.com/user-attachments/assets/cf5951dd-1abd-4205-9c33-c15f84529369)\n",
    "This was a very simple mistake, I didn't count the iterations thoroughly each time, and I should have maybe written it down for each iteration to not make this silly error\n",
    "\n",
    "4th Question Missed: Question 34\n",
    "![image](https://github.com/user-attachments/assets/d5350f1d-9b09-46a6-8017-8a2dcfa081f1)\n",
    "In order to construct, we are using Point and then assigning it x = a and y = b, which we need to do to successfully create a point; otherwise, it will not work. also you cant edite because its a private field\n",
    "\n",
    "5th Question Missed: Question 36\n",
    "![image](https://github.com/user-attachments/assets/8aa9defc-3b4f-4746-9c9b-10dd7a88c891)\n",
    "We are using elif here, so I am incorrect. In order to test evens, we can use 8, and then for odd/non-odd + ede, we can use 9, and for greater than that, we can use 11.\n",
    "\n",
    "6th Question Missed: Question 38\n",
    "![image](https://github.com/user-attachments/assets/25e95736-088e-44ee-916e-28262c467a8d)\n",
    "I\n",
    "The expression (y > 10000 && x > 1000 || x < 1500) is equivalent to (y > 10000) || (x > 1000 && x < 1500). This expression is true if either y > 10000 is true or both x > 1000 and x < 1500 are true. Answer C  is not equivalent to the original expression which si why it is wrong \n",
    "\n",
    "\n",
    "\n",
    "\n",
    "\n",
    "\n",
    "\n",
    "\n"
   ]
  }
 ],
 "metadata": {
  "language_info": {
   "name": "python"
  }
 },
 "nbformat": 4,
 "nbformat_minor": 2
}
