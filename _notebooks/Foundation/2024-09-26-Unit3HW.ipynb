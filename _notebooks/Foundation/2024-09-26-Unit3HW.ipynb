{
 "cells": [
  {
   "cell_type": "markdown",
   "metadata": {},
   "source": [
    "---\n",
    "layout: post\n",
    "title: Unit 3 HW\n",
    "description:  How to set up java\n",
    "type: issues \n",
    "comments: true\n",
    "---"
   ]
  },
  {
   "cell_type": "markdown",
   "metadata": {},
   "source": [
    "3.1: \n",
    "\n",
    "Hack 1: \n",
    "1. True\n",
    "2. True\n",
    "3. True\n",
    "4. False\n",
    "5. False\n",
    "6. True\n",
    "\n",
    "Popcorn Hack: \n",
    "Answer: The Issue with the code is that you are creating a string, but you don't have quotation marks. Adding quotation marks around the names allows the program to work. \n",
    "\n",
    "What is the precondition: The precondition is that num has between 1 to 6 digits in total. "
   ]
  },
  {
   "cell_type": "markdown",
   "metadata": {},
   "source": [
    "3.2 "
   ]
  },
  {
   "cell_type": "code",
   "execution_count": 1,
   "metadata": {},
   "outputs": [
    {
     "name": "stdout",
     "output_type": "stream",
     "text": [
      "Current age: 12\n",
      "On your next birthday, you will be 13 years old!\n"
     ]
    }
   ],
   "source": [
    "// Popcorn Hack #1:\n",
    "\n",
    "    int myAge = 12;\n",
    "    System.out.println(\"Current age: \" + myAge);\n",
    "    \n",
    "    if (myAge >= 16) {\n",
    "        System.out.println(\"You can start learning to drive!\");\n",
    "    }\n",
    "    else{\n",
    "        System.out.println(\"On your next birthday, you will be \" + (myAge + 1) + \" years old!\");\n",
    "    }"
   ]
  },
  {
   "cell_type": "markdown",
   "metadata": {},
   "source": [
    "3.3"
   ]
  },
  {
   "cell_type": "code",
   "execution_count": 2,
   "metadata": {},
   "outputs": [
    {
     "name": "stdout",
     "output_type": "stream",
     "text": [
      "You are Tanav\n"
     ]
    }
   ],
   "source": [
    "String name = \"Tanav\";\n",
    "\n",
    "if(name == \"Tanav\"){\n",
    "    System.out.println(\"You are Tanav\");\n",
    "}\n",
    "else {\n",
    "    System.out.println(\"You are not Tanav\");\n",
    "}"
   ]
  },
  {
   "cell_type": "markdown",
   "metadata": {},
   "source": [
    "3.4 \n",
    "\n",
    "1. If I was 19 what would it print out?\n",
    "\n",
    "   It would print out that you are old enough to get a driver's license\n",
    "\n",
    "3. If I was 14 what would it print out?\n",
    "\n",
    "   It would print out \"You are 14\"\n",
    "5. Create your if statement with one else if condition."
   ]
  },
  {
   "cell_type": "code",
   "execution_count": 6,
   "metadata": {},
   "outputs": [
    {
     "name": "stdout",
     "output_type": "stream",
     "text": [
      "Woah! You're tall\n"
     ]
    }
   ],
   "source": [
    "double height = 5.2;\n",
    "\n",
    "if (height>=4){\n",
    "    System.out.println(\"Woah! You're tall\");\n",
    "}\n",
    "else if (4 > height && height > 2){\n",
    "    System.out.println(\"Your height is average\");\n",
    "}\n",
    "else {\n",
    "    System.out.println(\"You're a midget\");\n",
    "}"
   ]
  },
  {
   "cell_type": "markdown",
   "metadata": {},
   "source": [
    "3.5\n",
    "\n",
    "The purpose of this algorithm is to determine what benefits one has based on their age, income, and if they're a student or not. With these specified inputs, the output would be that you would get the student discount, but you also don't qualify for any discounts. "
   ]
  },
  {
   "cell_type": "code",
   "execution_count": 13,
   "metadata": {},
   "outputs": [
    {
     "name": "stdout",
     "output_type": "stream",
     "text": [
      "Wow, you're old and still learning! You get a scholarship for your education\n"
     ]
    }
   ],
   "source": [
    "//popcorn hack 2:\n",
    "int age = 30; // Change this value for testing\n",
    "boolean isStudent = true; // Change this value for testing\n",
    "\n",
    "String[] discounts;\n",
    "\n",
    "if(age >= 30){\n",
    "    if(isStudent){\n",
    "        System.out.println(\"Wow, you're old and still learning! You get a scholarship for your education\");\n",
    "    }\n",
    "    else {\n",
    "        System.out.println(\"You don't qualify for any discounts\");\n",
    "    }\n",
    "}\n",
    "else if (age< 30 && !isStudent){\n",
    "    System.out.println(\"You get no discounts\");\n",
    "}\n",
    "else {\n",
    "    if(isStudent){\n",
    "        System.out.println(\"Young and in school! You get a scholarship\");\n",
    "    }\n",
    "    else {\n",
    "        System.out.println(\"You don't qualify for any diuscounts\");\n",
    "    }\n",
    "}"
   ]
  },
  {
   "cell_type": "markdown",
   "metadata": {},
   "source": [
    "3.6 \n",
    "1. **What is `!(x == 0)` equivalent to?**\n",
    "   - Apply De Morgan's Law to find an equivalent expression.\n",
    "         (x != 0)\n",
    "\n",
    "2. **Negate the expression `(x < -5 || x > 10)`.**\n",
    "   - Use De Morgan's Law to rewrite this expression in a different form.\n",
    "     (x >= -5 && x <= 10)\n",
    "\n",
    "First Row: T T T\n",
    "Second Row: F T F\n",
    "Third Row: T F T\n",
    "Fourth Row: F F F"
   ]
  },
  {
   "cell_type": "markdown",
   "metadata": {},
   "source": [
    "3.7\n",
    "\n",
    "Yes, it would be the same because they have the same value and reference method"
   ]
  },
  {
   "cell_type": "code",
   "execution_count": null,
   "metadata": {},
   "outputs": [
    {
     "name": "stdout",
     "output_type": "stream",
     "text": [
      "Enter your age: "
     ]
    },
    {
     "name": "stdin",
     "output_type": "stream",
     "text": [
      " 5\n"
     ]
    },
    {
     "name": "stdout",
     "output_type": "stream",
     "text": [
      "Enter your annual income: "
     ]
    },
    {
     "name": "stdin",
     "output_type": "stream",
     "text": [
      " 2\n"
     ]
    },
    {
     "name": "stdout",
     "output_type": "stream",
     "text": [
      "Are you a student (yes/no): What is your employment type (full-time, part-time, unemployed): "
     ]
    },
    {
     "name": "stdin",
     "output_type": "stream",
     "text": [
      " yes\n"
     ]
    }
   ],
   "source": [
    "##### import java.util.Scanner;\n",
    "    Scanner scanner = new Scanner(System.in);\n",
    "\n",
    "    // Get user input\n",
    "    System.out.print(\"Enter your age: \");\n",
    "    int age = scanner.nextInt();\n",
    "    System.out.print(\"Enter your annual income: \");\n",
    "    double annualIncome = scanner.nextDouble();\n",
    "    System.out.print(\"Are you a student (yes/no): \");\n",
    "    String studentStatus = scanner.nextLine().toLowerCase();\n",
    "    System.out.print(\"What is your employment type (full-time, part-time, unemployed): \");\n",
    "    String employmentType = scanner.nextLine().toLowerCase();\n",
    "\n",
    "    // Check for membership eligibility\n",
    "    boolean eligibleForBasic = age >= 18 && annualIncome >= 20000;\n",
    "    boolean eligibleForPremium = age >= 25 && annualIncome >= 50000;\n",
    "    boolean eligibleForStudentDiscount = studentStatus.equals(\"yes\");\n",
    "    boolean eligibleForSeniorDiscount = age >= 65;\n",
    "\n",
    "    // Print recommendations\n",
    "    if (eligibleForPremium) {\n",
    "        System.out.println(\"You qualify for Premium Membership.\");\n",
    "    } else if (eligibleForSeniorDiscount) {\n",
    "        System.out.println(\"You qualify for Senior Discount.\");\n",
    "    } else if (eligibleForStudentDiscount) {\n",
    "        System.out.println(\"You qualify for Student Discount.\");\n",
    "    } else if (eligibleForBasic) {\n",
    "        System.out.println(\"You qualify for Basic Membership.\");\n",
    "    } else {\n",
    "        System.out.println(\"You do not qualify for any memberships or discounts.\");\n",
    "    }"
   ]
  },
  {
   "cell_type": "code",
   "execution_count": null,
   "metadata": {},
   "outputs": [],
   "source": []
  }
 ],
 "metadata": {
  "kernelspec": {
   "display_name": "Java",
   "language": "java",
   "name": "java"
  },
  "language_info": {
   "codemirror_mode": "java",
   "file_extension": ".jshell",
   "mimetype": "text/x-java-source",
   "name": "Java",
   "pygments_lexer": "java",
   "version": "17.0.12+7-Ubuntu-1ubuntu224.04"
  }
 },
 "nbformat": 4,
 "nbformat_minor": 4
}
